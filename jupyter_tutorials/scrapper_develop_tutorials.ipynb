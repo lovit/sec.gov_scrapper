{
 "cells": [
  {
   "cell_type": "markdown",
   "metadata": {},
   "source": [
    "## File IO"
   ]
  },
  {
   "cell_type": "code",
   "execution_count": 1,
   "metadata": {
    "collapsed": true
   },
   "outputs": [],
   "source": [
    "# open(파일 이름, 리딩이면 r, 라이팅이면 w, 인코딩은 언제나 utf-8)\n",
    "with open('../company_list', 'r', encoding='utf-8') as f:\n",
    "    next(f)\n",
    "    company = [line.replace('\\n','') for line in f]\n",
    "    #company = company[1:]\n",
    "\n",
    "company_list = [line.split('\\t') for line in company]\n",
    "company_list = [line for line in company_list if line[2] != '']"
   ]
  },
  {
   "cell_type": "markdown",
   "metadata": {},
   "source": [
    "미리 tmp 폴더랑 0 ~ 19 까지 하위폴더를 만들겁니다 "
   ]
  },
  {
   "cell_type": "code",
   "execution_count": 4,
   "metadata": {
    "collapsed": true
   },
   "outputs": [],
   "source": [
    "import os\n",
    "\n",
    "for i in range(20):\n",
    "    if not os.path.exists('./tmp/%d/' % i):\n",
    "        os.makedirs('./tmp/%d/' % i)"
   ]
  },
  {
   "cell_type": "code",
   "execution_count": 3,
   "metadata": {},
   "outputs": [
    {
     "data": {
      "text/plain": [
       "['1347 CAPITAL CORP', '0001606163', '1606163']"
      ]
     },
     "execution_count": 3,
     "metadata": {},
     "output_type": "execute_result"
    }
   ],
   "source": [
    "company_list[0]"
   ]
  },
  {
   "cell_type": "markdown",
   "metadata": {},
   "source": [
    "## Scrapping 용 함수들"
   ]
  },
  {
   "cell_type": "code",
   "execution_count": 7,
   "metadata": {
    "collapsed": true
   },
   "outputs": [],
   "source": [
    "from bs4 import BeautifulSoup\n",
    "import requests\n",
    "\n",
    "def get_html_source(url):\n",
    "    try:\n",
    "        html_source = requests.get(url).text\n",
    "        return html_source\n",
    "    except:\n",
    "        return None\n",
    "\n",
    "\n",
    "def get_soup(url):\n",
    "    try:\n",
    "        html_source = requests.get(url).text\n",
    "        soup = BeautifulSoup(html_source, 'lxml')\n",
    "        return soup\n",
    "    except:\n",
    "        return None\n",
    "\n",
    "\n",
    "def parse_html_link(soup):\n",
    "    '''\n",
    "    BeautifulSoup(html_source)로부터 끝에 htm이 들어간 링크들만 가져오기\n",
    "    '''\n",
    "    links = soup.find_all('a') \n",
    "    links = [link.attrs.get('href', '').strip() for link in links] \n",
    "    links = [link for link in links if '.htm' in link]\n",
    "    return links"
   ]
  },
  {
   "cell_type": "markdown",
   "metadata": {},
   "source": [
    "## Scrapping 전략\n",
    "\n",
    "Apple의 경우를 예로 들자\n",
    "\n",
    "- Step 1\n",
    "    - EDGAR Search Results 사이트에서 Document 링크들을 가져온다. 상위 10개만 필요하기 때문에 count=10으로 고정한다\n",
    "    - Apple 회사 아이디 CIK=0000320193\n",
    "    - https://www.sec.gov/cgi-bin/browse-edgar?action=getcompany&CIK=0000320193&type=def+14a&dateb=&owner=exclude&count=10\n",
    "\n",
    "- Step 2\n",
    "    - Filing Detail에서 DEFINITIVE PROXY STATEMENT 를 가져온다\n",
    "    - https://www.sec.gov/Archives/edgar/data/320193/000119312517003753/0001193125-17-003753-index.htm\n",
    "\n",
    "- Step 3\n",
    "    - DEFINITIVE PROXY STATEMENT 문서를 가져와서 저장한다\n",
    "\n",
    "- Step 4\n",
    "    - 저장된 DEFINITIVE PROXY STATEMENT에서 ToC를 이용해서 원하는 부분을 parsing한다"
   ]
  },
  {
   "cell_type": "markdown",
   "metadata": {},
   "source": [
    "## Step 1: EDGAR Search Scrapping"
   ]
  },
  {
   "cell_type": "code",
   "execution_count": 8,
   "metadata": {
    "collapsed": true
   },
   "outputs": [],
   "source": [
    "step1_base_url = 'https://www.sec.gov/cgi-bin/browse-edgar?action=getcompany&CIK=%s&type=def+14a&dateb=&owner=exclude&count=20'"
   ]
  },
  {
   "cell_type": "code",
   "execution_count": 9,
   "metadata": {},
   "outputs": [
    {
     "name": "stdout",
     "output_type": "stream",
     "text": [
      "https://www.sec.gov/cgi-bin/browse-edgar?action=getcompany&CIK=0000320193&type=def+14a&dateb=&owner=exclude&count=20\n"
     ]
    }
   ],
   "source": [
    "company_id = '0000320193' \n",
    "company_id_int = int(company_id)\n",
    "url = step1_base_url % company_id\n",
    "print(url)"
   ]
  },
  {
   "cell_type": "code",
   "execution_count": 10,
   "metadata": {
    "collapsed": true
   },
   "outputs": [],
   "source": [
    "def parse_document_links(soup):\n",
    "    links = soup.select('a[href^=/Archives/edgar/data/%d]' % company_id_int)\n",
    "    links = [link.attrs.get('href', '').strip() for link in links]\n",
    "    links = ['https://www.sec.gov'+link for link in links if '.htm' in link]\n",
    "    return links\n",
    "\n",
    "def parse_document_links_with_filling_date(soup):\n",
    "    rows = soup.select('table[class=tableFile2] tr')\n",
    "    if len(rows) <= 1:\n",
    "        return []\n",
    "    \n",
    "    links_and_date = []\n",
    "    \n",
    "    for i, row in enumerate(rows):\n",
    "        if i == 0:\n",
    "            continue\n",
    "        \n",
    "        td = row.select('td')\n",
    "        document_link = 'https://www.sec.gov' + td[1].select('a')[0].attrs.get('href', '')\n",
    "        filling_date = td[3].text\n",
    "         # 리스트 추가\n",
    "        links_and_date.append((document_link, filling_date))\n",
    "        \n",
    "    return links_and_date"
   ]
  },
  {
   "cell_type": "code",
   "execution_count": 11,
   "metadata": {},
   "outputs": [
    {
     "data": {
      "text/plain": [
       "[('https://www.sec.gov/Archives/edgar/data/320193/000119312517380130/0001193125-17-380130-index.htm',\n",
       "  '2017-12-27'),\n",
       " ('https://www.sec.gov/Archives/edgar/data/320193/000119312517003753/0001193125-17-003753-index.htm',\n",
       "  '2017-01-06'),\n",
       " ('https://www.sec.gov/Archives/edgar/data/320193/000119312516422528/0001193125-16-422528-index.htm',\n",
       "  '2016-01-06'),\n",
       " ('https://www.sec.gov/Archives/edgar/data/320193/000119312515017607/0001193125-15-017607-index.htm',\n",
       "  '2015-01-22'),\n",
       " ('https://www.sec.gov/Archives/edgar/data/320193/000119312514008074/0001193125-14-008074-index.htm',\n",
       "  '2014-01-10'),\n",
       " ('https://www.sec.gov/Archives/edgar/data/320193/000119312513005529/0001193125-13-005529-index.htm',\n",
       "  '2013-01-07'),\n",
       " ('https://www.sec.gov/Archives/edgar/data/320193/000119312512006704/0001193125-12-006704-index.htm',\n",
       "  '2012-01-09'),\n",
       " ('https://www.sec.gov/Archives/edgar/data/320193/000119312511003231/0001193125-11-003231-index.htm',\n",
       "  '2011-01-07'),\n",
       " ('https://www.sec.gov/Archives/edgar/data/320193/000119312510005145/0001193125-10-005145-index.htm',\n",
       "  '2010-01-12'),\n",
       " ('https://www.sec.gov/Archives/edgar/data/320193/000119312509002537/0001193125-09-002537-index.htm',\n",
       "  '2009-01-07'),\n",
       " ('https://www.sec.gov/Archives/edgar/data/320193/000119312508010038/0001193125-08-010038-index.htm',\n",
       "  '2008-01-23'),\n",
       " ('https://www.sec.gov/Archives/edgar/data/320193/000110465907028382/0001104659-07-028382-index.htm',\n",
       "  '2007-04-16'),\n",
       " ('https://www.sec.gov/Archives/edgar/data/320193/000119312506052321/0001193125-06-052321-index.htm',\n",
       "  '2006-03-13'),\n",
       " ('https://www.sec.gov/Archives/edgar/data/320193/000104746905006387/0001047469-05-006387-index.htm',\n",
       "  '2005-03-15'),\n",
       " ('https://www.sec.gov/Archives/edgar/data/320193/000104746904007414/0001047469-04-007414-index.htm',\n",
       "  '2004-03-11'),\n",
       " ('https://www.sec.gov/Archives/edgar/data/320193/000104746903009893/0001047469-03-009893-index.htm',\n",
       "  '2003-03-24'),\n",
       " ('https://www.sec.gov/Archives/edgar/data/320193/000091205702010888/0000912057-02-010888-index.htm',\n",
       "  '2002-03-21'),\n",
       " ('https://www.sec.gov/Archives/edgar/data/320193/000091205701007512/0000912057-01-007512-index.htm',\n",
       "  '2001-03-12'),\n",
       " ('https://www.sec.gov/Archives/edgar/data/320193/0000912057-00-010000-index.html',\n",
       "  '2000-03-06'),\n",
       " ('https://www.sec.gov/Archives/edgar/data/320193/0001047469-99-003858-index.html',\n",
       "  '1999-02-09')]"
      ]
     },
     "execution_count": 11,
     "metadata": {},
     "output_type": "execute_result"
    }
   ],
   "source": [
    "soup = get_soup(url)\n",
    "links = parse_document_links_with_filling_date(soup)\n",
    "links"
   ]
  },
  {
   "cell_type": "markdown",
   "metadata": {},
   "source": [
    "## Step 2: DEFINITIVE PROXY STATEMENT가져오기"
   ]
  },
  {
   "cell_type": "code",
   "execution_count": 12,
   "metadata": {
    "collapsed": true
   },
   "outputs": [],
   "source": [
    "soup = get_soup(links[0][0])"
   ]
  },
  {
   "cell_type": "code",
   "execution_count": 13,
   "metadata": {
    "collapsed": true
   },
   "outputs": [],
   "source": [
    "table_rows = soup.select('table[class=tableFile] tr')"
   ]
  },
  {
   "cell_type": "code",
   "execution_count": 14,
   "metadata": {},
   "outputs": [
    {
     "data": {
      "text/plain": [
       "42"
      ]
     },
     "execution_count": 14,
     "metadata": {},
     "output_type": "execute_result"
    }
   ],
   "source": [
    "len(table_rows)"
   ]
  },
  {
   "cell_type": "code",
   "execution_count": 13,
   "metadata": {},
   "outputs": [
    {
     "data": {
      "text/plain": [
       "'https://www.sec.gov/Archives/edgar/data/320193/000119312517003753/d257185ddef14a.htm'"
      ]
     },
     "execution_count": 13,
     "metadata": {},
     "output_type": "execute_result"
    }
   ],
   "source": [
    "proxy_statement_link = table_rows[1].select('a')\n",
    "proxy_statement_link = proxy_statement_link[0].attrs.get('href')\n",
    "proxy_statement_link = 'https://www.sec.gov' + proxy_statement_link \n",
    "proxy_statement_link"
   ]
  },
  {
   "cell_type": "markdown",
   "metadata": {},
   "source": [
    "## Step 3: DEFINITIVE PROXY STATEMENT 문서를 가져와서 저장"
   ]
  },
  {
   "cell_type": "code",
   "execution_count": 14,
   "metadata": {
    "collapsed": true
   },
   "outputs": [],
   "source": [
    "html_source = get_html_source(proxy_statement_link)"
   ]
  },
  {
   "cell_type": "code",
   "execution_count": 15,
   "metadata": {},
   "outputs": [
    {
     "data": {
      "text/plain": [
       "'https://www.sec.gov/Archives/edgar/data/320193/000119312517003753/d257185ddef14a.htm'"
      ]
     },
     "execution_count": 15,
     "metadata": {},
     "output_type": "execute_result"
    }
   ],
   "source": [
    "proxy_statement_link"
   ]
  },
  {
   "cell_type": "code",
   "execution_count": 20,
   "metadata": {
    "collapsed": true
   },
   "outputs": [],
   "source": [
    "# dps_html_fname = 'tmp/%s_%s.html' % (company_id, links[0][1])\n",
    "\n",
    "# with open(dps_html_fname, 'w', encoding='utf-8') as f:\n",
    "#     f.write(html_source)"
   ]
  },
  {
   "cell_type": "markdown",
   "metadata": {},
   "source": [
    "## Step 1 - 3까지 한번에 다하기"
   ]
  },
  {
   "cell_type": "code",
   "execution_count": 16,
   "metadata": {
    "collapsed": true
   },
   "outputs": [],
   "source": [
    "# company_list = [ ['Apple CORP', '0000320193', '320193'], \n",
    "#                  ['APOLLO INVESTMENT CORP', '0001278752', '1278752'],\n",
    "#                  ['BMC STOCK HOLDINGS INC', '0001574815', '1574815']\n",
    "#                ]"
   ]
  },
  {
   "cell_type": "markdown",
   "metadata": {},
   "source": [
    "[(link, filling_date), (link, filling dt), ... ]"
   ]
  },
  {
   "cell_type": "code",
   "execution_count": null,
   "metadata": {
    "collapsed": true
   },
   "outputs": [],
   "source": [
    "import time\n",
    "\n",
    "for num_company, company in enumerate(company_list):\n",
    "    \n",
    "    if num_company == 0:\n",
    "        print('begin scrapper')\n",
    "    elif ((num_company < 50) and (num_company % 5 == 0)):\n",
    "        print('  .. scrapping (%d in %d)' % (num_company+1, len(company_list)))\n",
    "    elif ((num_company < 500) and (num_company % 50 == 0)):\n",
    "        print('  .. scrapping (%d in %d)' % (num_company+1, len(company_list)))\n",
    "    elif num_company % 500 == 0:\n",
    "        print('  .. scrapping (%d in %d)' % (num_company+1, len(company_list)))\n",
    "\n",
    "    # debug code\n",
    "    # print('begin %s (%s), (%d in %d)' % (company[0], company[2], num_company, len(company_list)) )\n",
    "\n",
    "    try:\n",
    "        company_id = company[1]\n",
    "        company_id_int = int(company[2])\n",
    "\n",
    "        url = step1_base_url % company_id\n",
    "        step1_soup = get_soup(url)\n",
    "\n",
    "        if step1_soup == None:\n",
    "            continue\n",
    "\n",
    "        links = parse_document_links_with_filling_date(step1_soup)\n",
    "\n",
    "        for num_dps, (step2link, filling_date) in enumerate(links):\n",
    "\n",
    "            step2_soup = get_soup(step2link)\n",
    "            if step2_soup == None:\n",
    "                continue\n",
    "\n",
    "            table_rows = step2_soup.select('table[class=tableFile] tr')\n",
    "            if len(table_rows) <= 1:\n",
    "                continue\n",
    "\n",
    "            proxy_statement_link = table_rows[1].select('a')\n",
    "            if len(proxy_statement_link) == 0:\n",
    "                continue\n",
    "\n",
    "            proxy_statement_link = proxy_statement_link[0].attrs.get('href', '')\n",
    "            proxy_statement_link = 'https://www.sec.gov' + proxy_statement_link \n",
    "            proxy_statement_link\n",
    "\n",
    "            dps_html_source = get_html_source(proxy_statement_link)\n",
    "            if dps_html_source == None:\n",
    "                continue\n",
    "\n",
    "            company_folder = num_company % 20\n",
    "\n",
    "            dps_html_fname = '/mnt/sdc1/secgov/tmp/%d/%s_%s.html' % (company_folder, company_id, filling_date)\n",
    "            with open(dps_html_fname, 'w', encoding='utf-8') as f:\n",
    "                f.write(dps_html_source)\n",
    "\n",
    "            # debug code\n",
    "            # print('  > filling date = %s' % filling_date)\n",
    "\n",
    "        time.sleep(1)\n",
    "    \n",
    "    except Exception as e:\n",
    "        print('error message = %s (num_company = %d)' % (str(e), num_company))\n",
    "\n",
    "    # debug code\n",
    "    # print('done %s (%s), (%d in %d)' % (company[0], company[2], num_company, len(company_list)))"
   ]
  },
  {
   "cell_type": "code",
   "execution_count": null,
   "metadata": {
    "collapsed": true
   },
   "outputs": [],
   "source": []
  }
 ],
 "metadata": {
  "kernelspec": {
   "display_name": "Python 3",
   "language": "python",
   "name": "python3"
  },
  "language_info": {
   "codemirror_mode": {
    "name": "ipython",
    "version": 3
   },
   "file_extension": ".py",
   "mimetype": "text/x-python",
   "name": "python",
   "nbconvert_exporter": "python",
   "pygments_lexer": "ipython3",
   "version": "3.6.2"
  }
 },
 "nbformat": 4,
 "nbformat_minor": 2
}
